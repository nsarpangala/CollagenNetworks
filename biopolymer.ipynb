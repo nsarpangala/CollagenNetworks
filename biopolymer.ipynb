{
  "nbformat": 4,
  "nbformat_minor": 0,
  "metadata": {
    "colab": {
      "provenance": [],
      "authorship_tag": "ABX9TyNvYLTOgP9WONseos5vta0/",
      "include_colab_link": true
    },
    "kernelspec": {
      "name": "python3",
      "display_name": "Python 3"
    },
    "language_info": {
      "name": "python"
    }
  },
  "cells": [
    {
      "cell_type": "markdown",
      "metadata": {
        "id": "view-in-github",
        "colab_type": "text"
      },
      "source": [
        "<a href=\"https://colab.research.google.com/github/nsarpangala/CollagenNetworks/blob/main/biopolymer.ipynb\" target=\"_parent\"><img src=\"https://colab.research.google.com/assets/colab-badge.svg\" alt=\"Open In Colab\"/></a>"
      ]
    },
    {
      "cell_type": "code",
      "execution_count": null,
      "metadata": {
        "id": "KwC3Id7GXxVG"
      },
      "outputs": [],
      "source": [
        "import matplotlib.pyplot as plt\n",
        "import numpy as np\n",
        "\n",
        "# Define Ball Class\n",
        "class Ball:\n",
        "    def __init__(self, position, mass=1e-15, radius=100e-9, viscosity=0.001, kB=1.38e-23, T=300):\n",
        "        self.position = np.array(position, dtype=float)\n",
        "        self.velocity = np.zeros(2)\n",
        "        self.acceleration = np.zeros(2)\n",
        "        self.mass = mass\n",
        "        self.radius = radius\n",
        "        self.gamma =  6*np.pi*radius*viscosity\n",
        "        self.kB= kB\n",
        "        self.T=T\n",
        "        self.D = kB*T/self.gamma\n",
        "\n",
        "    def applyForce(self, force):\n",
        "        #<fill in>\n",
        "\n",
        "    def update_position(self, dt):\n",
        "        #fill in\n",
        "\n",
        "\n",
        "# Define Spring Class\n",
        "class Spring:\n",
        "    def __init__(self, ball1, ball2, k=1e-6, rest_length=200e-9):\n",
        "        self.ball1 = ball1\n",
        "        self.ball2 = ball2\n",
        "        self.k = k\n",
        "        self.rest_length = rest_length\n",
        "\n",
        "    def update(self, dt):\n",
        "        #fill in\n",
        "        force_magnitude = self.k * (distance - self.rest_length)\n",
        "        force = force_dir * force_magnitude\n",
        "\n",
        "        #fill in\n",
        "\n",
        "    def display(self, ax):\n",
        "        ax.plot([self.ball1.position[0], self.ball2.position[0]], [self.ball1.position[1], self.ball2.position[1]], 'k-')\n",
        "\n",
        "class Fiber:\n",
        "    def __init__(self, area_size, num_segments, segment_length, deviation=0.75):\n",
        "        self.balls = [Ball(np.random.rand(2) * area_size)]\n",
        "        self.springs = []\n",
        "        self.area_size = area_size\n",
        "        self.num_segments = num_segments\n",
        "        self.segment_length = segment_length\n",
        "        self.deviation = deviation\n",
        "        current_direction = np.array([np.random.random(), np.random.random()])\n",
        "\n",
        "        for i in range(1, num_segments):\n",
        "            # Add randomness to the direction\n",
        "            angle = np.random.uniform(-deviation, deviation)\n",
        "            rotation_matrix = np.array([[np.cos(angle), -np.sin(angle)], [np.sin(angle), np.cos(angle)]])\n",
        "            current_direction = np.dot(rotation_matrix, current_direction)\n",
        "\n",
        "            # Calculate the new position based on the direction and segment length\n",
        "            new_position = self.balls[-1].position + current_direction * segment_length\n",
        "            new_ball = Ball(new_position)\n",
        "            self.balls.append(new_ball)\n",
        "\n",
        "            # Connect the new ball with a spring to the previous ball\n",
        "            new_spring = Spring(self.balls[-2], self.balls[-1])\n",
        "            self.springs.append(new_spring)\n",
        "\n",
        "    def update(self, dt):\n",
        "          # Example: External force\n",
        "        for spring in self.springs:\n",
        "            spring.update(dt)\n",
        "\n",
        "    def display(self, ax):\n",
        "        ax.clear()\n",
        "        color='k'\n",
        "        ax.set_xlim(0, self.area_size)\n",
        "        ax.set_ylim(0, self.area_size)\n",
        "        for filament in self.springs:\n",
        "            line = plt.Line2D((filament.ball1.position[0], filament.ball2.position[0]),\n",
        "                            (filament.ball1.position[1], filament.ball2.position[1]), lw=1, color=color)\n",
        "            ax.add_artist(line)"
      ]
    }
  ]
}
